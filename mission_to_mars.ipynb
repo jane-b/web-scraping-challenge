{
 "cells": [
  {
   "cell_type": "markdown",
   "metadata": {},
   "source": [
    "<h1>Part 1</h1>"
   ]
  },
  {
   "cell_type": "code",
   "execution_count": 1,
   "metadata": {},
   "outputs": [
    {
     "name": "stdout",
     "output_type": "stream",
     "text": [
      "Requirement already satisfied: selenium in c:\\users\\janeb\\anaconda3\\lib\\site-packages (3.141.0)\n",
      "Requirement already satisfied: urllib3 in c:\\users\\janeb\\anaconda3\\lib\\site-packages (from selenium) (1.24.2)\n"
     ]
    }
   ],
   "source": [
    "!pip install selenium"
   ]
  },
  {
   "cell_type": "code",
   "execution_count": 2,
   "metadata": {},
   "outputs": [],
   "source": [
    "from selenium import webdriver\n",
    "from selenium.webdriver.common.keys import Keys\n",
    "from selenium.webdriver.common.by import By\n",
    "from selenium.webdriver.support.ui import WebDriverWait\n",
    "from selenium.webdriver.support import expected_conditions as EC\n",
    "from selenium.webdriver.common.action_chains import ActionChains\n",
    "import time\n",
    "import pymongo"
   ]
  },
  {
   "cell_type": "code",
   "execution_count": 3,
   "metadata": {},
   "outputs": [
    {
     "name": "stdout",
     "output_type": "stream",
     "text": [
      "By default the site returns an 40 posts\n",
      "How many extra posts i.e. 1 = 40, 2 = 80,3 = 120\n",
      "1\n",
      "{'title': \"NASA's Curiosity Keeps Rolling As Team Operates Rover From Home\", 'body': 'The team has learned to meet new challenges as they work remotely on the Mars mission.', '_id': ObjectId('5e9c9ae1197c7cf8beeb9eda')}\n",
      "{'title': \"Mars Helicopter Attached to NASA's Perseverance Rover\", 'body': \"The team also fueled the rover's sky crane to get ready for this summer's history-making launch.\", '_id': ObjectId('5e9c9ae1197c7cf8beeb9edb')}\n",
      "{'title': \"NASA's Perseverance Mars Rover Gets Its Wheels and Air Brakes\", 'body': 'After the rover was shipped from JPL to Kennedy Space Center, the team is getting closer to finalizing the spacecraft for launch later this summer.', '_id': ObjectId('5e9c9ae1197c7cf8beeb9edc')}\n",
      "{'title': 'The Man Who Wanted to Fly on Mars', 'body': \"The Mars Helicopter is riding to the Red Planet this summer with NASA's Perseverance rover. The helicopter's chief engineer, Bob Balaram, shares the saga of how it came into being.\", '_id': ObjectId('5e9c9ae1197c7cf8beeb9edd')}\n",
      "{'title': \"10.9 Million Names Now Aboard NASA's Perseverance Mars Rover\", 'body': \"As part of NASA's 'Send Your Name to Mars' campaign, they've been stenciled onto three microchips along with essays from NASA's 'Name the Rover' contest. Next stop: Mars.\", '_id': ObjectId('5e9c9ae1197c7cf8beeb9ede')}\n",
      "{'title': \"NASA's Curiosity Mars Rover Takes a New Selfie Before Record Climb\", 'body': 'Along with capturing an image before its steepest ascent ever, the robotic explorer filmed its \"selfie stick,\" or robotic arm, in action.', '_id': ObjectId('5e9c9ae1197c7cf8beeb9edf')}\n",
      "{'title': \"NASA's Mars Perseverance Rover Gets Its Sample Handling System\", 'body': 'The system will be collecting and storing Martian rock and soil. Its installation marks another milestone in the march toward the July launch period.', '_id': ObjectId('5e9c9ae1197c7cf8beeb9ee0')}\n",
      "{'title': \"Virginia Middle School Student Earns Honor of Naming NASA's Next Mars Rover\", 'body': 'NASA chose a seventh-grader from Virginia as winner of the agency\\'s \"Name the Rover\" essay contest. Alexander Mather\\'s entry for \"Perseverance\" was voted tops among 28,000 entries.', '_id': ObjectId('5e9c9ae1197c7cf8beeb9ee1')}\n",
      "{'title': \"NASA's Curiosity Mars Rover Snaps Its Highest-Resolution Panorama Yet\", 'body': 'To go along with the stunning 1.8-billion-pixel image, a new video offers a sweeping view of the Red Planet.', '_id': ObjectId('5e9c9ae1197c7cf8beeb9ee2')}\n",
      "{'title': 'NASA to Reveal Name of Its Next Mars Rover', 'body': \"After a months-long contest among students to name NASA's newest Mars rover, the agency will reveal the winning name — and the winning student — this Thursday.\", '_id': ObjectId('5e9c9ae1197c7cf8beeb9ee3')}\n",
      "{'title': 'The MarCO Mission Comes to an End', 'body': 'The pair of briefcase-sized satellites made history when they sailed past Mars in 2019.', '_id': ObjectId('5e9c9ae1197c7cf8beeb9ee4')}\n",
      "{'title': \"A Year of Surprising Science From NASA's InSight Mars Mission\", 'body': \"A batch of new papers summarizes the lander's findings above and below the surface of the Red Planet.\", '_id': ObjectId('5e9c9ae1197c7cf8beeb9ee5')}\n",
      "{'title': \"Mars InSight Lander to Push on Top of the 'Mole'\", 'body': 'Engineers have a plan for pushing down on the heat probe, which has been stuck at the Martian surface for a year.', '_id': ObjectId('5e9c9ae1197c7cf8beeb9ee6')}\n",
      "{'title': \"Common Questions about InSight's 'Mole'\", 'body': 'The following Q&As with members of the team answer some of the most common questions about the burrowing device, part of a science instrument called the Heat Flow and Physical Properties Package (HP3).', '_id': ObjectId('5e9c9ae1197c7cf8beeb9ee7')}\n",
      "{'title': 'NASA Adds Return Sample Scientists to Mars 2020 Leadership Team', 'body': 'The leadership council for Mars 2020 science added two new members who represent the interests of scientists destined to handle and study the first samples from Red Planet.', '_id': ObjectId('5e9c9ae1197c7cf8beeb9ee8')}\n",
      "{'title': \"NASA's Mars Reconnaissance Orbiter Undergoes Memory Update\", 'body': 'Other orbiters will continue relaying data from Mars surface missions for a two-week period.', '_id': ObjectId('5e9c9ae1197c7cf8beeb9ee9')}\n",
      "{'title': \"NASA's Mars 2020 Rover Goes Coast-to-Coast to Prep for Launch\", 'body': \"The agency's first step in returning rocks from Mars just arrived at Kennedy Space Center. The Mars 2020 team now begins readying for a launch to the Red Planet this July.\", '_id': ObjectId('5e9c9ae1197c7cf8beeb9eea')}\n",
      "{'title': 'NASA Prepares for Moon and Mars With New Addition to Its Deep Space Network', 'body': 'Robotic spacecraft will be able to communicate with the dish using radio waves and lasers.', '_id': ObjectId('5e9c9ae1197c7cf8beeb9eeb')}\n",
      "{'title': 'NASA Administrator Statement on Moon to Mars Initiative, FY 2021 Budget', 'body': \"Jim Bridenstine addresses NASA's ambitious plans for the coming years, including Mars Sample Return.\", '_id': ObjectId('5e9c9ae2197c7cf8beeb9eec')}\n",
      "{'title': \"All About the Laser (and Microphone) Atop Mars 2020, NASA's Next Rover\", 'body': 'SuperCam is a rock-vaporizing instrument that will help scientists hunt for Mars fossils.', '_id': ObjectId('5e9c9ae2197c7cf8beeb9eed')}\n",
      "{'title': \"NASA's MAVEN Explores Mars to Understand Radio Interference at Earth\", 'body': 'NASA’s MAVEN spacecraft has discovered “layers” and “rifts” in the electrically charged part of the upper atmosphere of Mars.', '_id': ObjectId('5e9c9ae2197c7cf8beeb9eee')}\n",
      "{'title': \"Nine Finalists Chosen in NASA's Mars 2020 Rover Naming Contest\", 'body': \"Nine finalists have been chosen in the essay contest for K-12 students across U.S. to name NASA's next Mars rover. Now you can help by voting for your favorite.\", '_id': ObjectId('5e9c9ae2197c7cf8beeb9eef')}\n",
      "{'title': \"NASA's Mars 2020 Rover Closer to Getting Its Name\", 'body': \"155 students from across the U.S. have been chosen as semifinalists in NASA's essay contest to name the Mars 2020 rover, and see it launch from Cape Canaveral this July.\", '_id': ObjectId('5e9c9ae2197c7cf8beeb9ef0')}\n",
      "{'title': \"Media Get a Close-Up of NASA's Mars 2020 Rover\", 'body': \"The clean room at NASA's Jet Propulsion Laboratory was open to the media to see NASA's next Mars explorer before it leaves for Florida in preparation for a summertime launch.\", '_id': ObjectId('5e9c9ae2197c7cf8beeb9ef1')}\n",
      "{'title': 'Space History Is Made in This NASA Robot Factory', 'body': \"From rockets to rovers, JPL's Spacecraft Assembly Facility has been at the center of robotic spaceflight. Here's a closer look at what makes it so special.\", '_id': ObjectId('5e9c9ae2197c7cf8beeb9ef2')}\n",
      "{'title': \"NASA's Mars 2020 Rover Completes Its First Drive\", 'body': 'In a 10-plus-hour marathon, the rover steered, turned and drove in 3-foot (1-meter) increments over small ramps.', '_id': ObjectId('5e9c9ae2197c7cf8beeb9ef3')}\n",
      "{'title': \"NASA's MAVEN Maps Winds in the Martian Upper Atmosphere that Mirror the Terrain Below and Gives Clues to Martian Climate\", 'body': 'Researchers have created the first map of wind circulation in the upper atmosphere of a planet besides Earth, using data from NASA’s MAVEN spacecraft that were collected during the last two years.', '_id': ObjectId('5e9c9ae2197c7cf8beeb9ef4')}\n",
      "{'title': \"Newfound Martian Aurora Actually the Most Common; Sheds Light on Mars' Changing Climate\", 'body': 'A type of Martian aurora first identified by NASA’s MAVEN spacecraft in 2016 is actually the most common form of aurora occurring on the Red Planet, according to new results from the mission.', '_id': ObjectId('5e9c9ae2197c7cf8beeb9ef5')}\n",
      "{'title': \"NASA's Treasure Map for Water Ice on Mars\", 'body': 'A new study identifies frozen water just below the Martian surface, where astronauts could easily dig it up.', '_id': ObjectId('5e9c9ae2197c7cf8beeb9ef6')}\n",
      "{'title': 'Two Rovers to Roll on Mars Again: Curiosity and Mars 2020', 'body': 'They look like twins. But under the hood, the rover currently exploring the Red Planet and the one launching there this summer have distinct science tools and roles to play.', '_id': ObjectId('5e9c9ae2197c7cf8beeb9ef7')}\n",
      "{'title': \"NASA's Briefcase-Size MarCO Satellite Picks Up Honors\", 'body': 'The twin spacecraft, the first of their kind to fly into deep space, earn a Laureate from Aviation Week & Space Technology.', '_id': ObjectId('5e9c9ae2197c7cf8beeb9ef8')}\n",
      "{'title': 'Global Storms on Mars Launch Dust Towers Into the Sky', 'body': 'A Mars Dust Tower Stands Out Dust storms are common on Mars. But every decade or so, something unpredictable happens: a series of runaway storms break out, covering the entire planet in a dusty haze.', '_id': ObjectId('5e9c9ae2197c7cf8beeb9ef9')}\n",
      "{'title': 'NASA Updates Mars 2020 Mission Environmental Review', 'body': 'NASA and the Department of Energy have completed a more detailed risk analysis for the Mars 2020 rover launch from Florida.', '_id': ObjectId('5e9c9ae2197c7cf8beeb9efa')}\n"
     ]
    },
    {
     "name": "stdout",
     "output_type": "stream",
     "text": [
      "{'title': 'Two of a Space Kind: Apollo 12 and Mars 2020', 'body': 'Apollo 12 and the upcoming Mars 2020 mission may be separated by half a century, but they share several goals unique in the annals of space exploration.', '_id': ObjectId('5e9c9ae2197c7cf8beeb9efb')}\n",
      "{'title': 'Mars Scientists Investigate Ancient Life in Australia', 'body': \"Teams with NASA's Mars 2020 and ESA's ExoMars practiced hunting for fossilized microbial life in the Australian Outback in preparation for their Red Planet missions.\", '_id': ObjectId('5e9c9ae2197c7cf8beeb9efc')}\n",
      "{'title': \"NASA's Mars 2020 Will Hunt for Microscopic Fossils\", 'body': \"A new paper identifies a ring of minerals at the rover's landing site that are ideal for fossilizing microbial life.\", '_id': ObjectId('5e9c9ae2197c7cf8beeb9efd')}\n",
      "{'title': 'With Mars Methane Mystery Unsolved, Curiosity Serves Scientists a New One: Oxygen', 'body': 'For the first time in the history of space exploration, scientists have measured the seasonal changes in the gases that fill the air directly above the surface of Gale Crater on Mars.', '_id': ObjectId('5e9c9ae2197c7cf8beeb9efe')}\n",
      "{'title': \"NASA's Mars 2020 Heads Into the Test Chamber\", 'body': 'In this time-lapse video taken at JPL, engineers move the Mars 2020 rover into a large vacuum chamber for testing in Mars-like environmental conditions.', '_id': ObjectId('5e9c9ae2197c7cf8beeb9eff')}\n",
      "{'title': \"Screening Soon: 'The Pathfinders' Trains Lens on Mars\", 'body': 'With the Mars 2020 mission ramping up, the documentary — the first of four about past JPL missions to the Red Planet to be shown at Caltech — tells a gripping backstory.', '_id': ObjectId('5e9c9ae3197c7cf8beeb9f00')}\n",
      "{'title': \"InSight's 'Mole' Team Peers into the Pit\", 'body': 'Efforts to save the heat probe continue.', '_id': ObjectId('5e9c9ae3197c7cf8beeb9f01')}\n",
      "{'title': 'Mars 2020 Stands on Its Own Six Wheels', 'body': \"In time-lapse video, taken at JPL, captures the first time NASA's Mars 2020 rover carries its full weight on its legs and wheels.\", '_id': ObjectId('5e9c9ae3197c7cf8beeb9f02')}\n",
      "{'title': 'New Selfie Shows Curiosity, the Mars Chemist', 'body': 'The NASA rover performed a special chemistry experiment at the location captured in its newest self-portrait.', '_id': ObjectId('5e9c9ae3197c7cf8beeb9f03')}\n",
      "{'title': 'Naming a NASA Mars Rover Can Change Your Life', 'body': 'Want to name the robotic scientist NASA is sending to Mars in 2020? The student who named Curiosity — the rover currently exploring Mars — will tell you this is an opportunity worth taking.', '_id': ObjectId('5e9c9ae3197c7cf8beeb9f04')}\n",
      "{'title': 'Mars 2020 Unwrapped and Ready for More Testing', 'body': \"In time-lapse video, bunny-suited engineers remove the inner layer of protective foil on NASA's Mars 2020 rover after it was relocated for testing.\", '_id': ObjectId('5e9c9ae3197c7cf8beeb9f05')}\n",
      "{'title': \"HiRISE Views NASA's InSight and Curiosity on Mars\", 'body': 'New images taken from space offer the clearest orbital glimpse yet of InSight as well as a view of Curiosity rolling along.', '_id': ObjectId('5e9c9ae3197c7cf8beeb9f06')}\n",
      "{'title': \"NASA's Curiosity Rover Finds an Ancient Oasis on Mars\", 'body': \"New evidence suggests salty, shallow ponds once dotted a Martian crater — a sign of the planet's drying climate.\", '_id': ObjectId('5e9c9ae3197c7cf8beeb9f07')}\n",
      "{'title': \"NASA's Mars 2020 Rover Tests Descent-Stage Separation\", 'body': \"A crane lifts the rocket-powered descent stage away from NASA's Mars 2020 rover after technicians tested the pyrotechnic charges that separate the two spacecraft.\", '_id': ObjectId('5e9c9ae3197c7cf8beeb9f08')}\n",
      "{'title': \"NASA's Push to Save the Mars InSight Lander's Heat Probe\", 'body': \"The scoop on the end of the spacecraft's robotic arm will be used to 'pin' the mole against the wall of its hole.\", '_id': ObjectId('5e9c9ae3197c7cf8beeb9f09')}\n",
      "{'title': \"NASA's InSight 'Hears' Peculiar Sounds on Mars\", 'body': 'Listen to the marsquakes and other, less-expected sounds that the Mars lander has been detecting.', '_id': ObjectId('5e9c9ae3197c7cf8beeb9f0a')}\n",
      "{'title': 'NASA Mars Mission Connects With Bosnian and Herzegovinian Town', 'body': 'A letter from NASA was presented to the mayor of Jezero, Bosnia-Herzegovina, honoring the connection between the town and Jezero Crater, the Mars 2020 rover landing site.', '_id': ObjectId('5e9c9ae3197c7cf8beeb9f0b')}\n",
      "{'title': \"Deadline Closing for Names to Fly on NASA's Next Mars Rover\", 'body': 'You have until Sept. 30 to send your names to Mars aboard the Mars 2020 rover.', '_id': ObjectId('5e9c9ae3197c7cf8beeb9f0c')}\n",
      "{'title': 'NASA Wins Two Emmy Awards for Interactive Mission Coverage', 'body': \"NASA-JPL's coverage of the Mars InSight landing earns one of the two wins, making this the NASA center's second Emmy.\", '_id': ObjectId('5e9c9ae3197c7cf8beeb9f0d')}\n",
      "{'title': \"NASA's Mars 2020 Comes Full Circle\", 'body': \"Aiming to pinpoint the Martian vehicle's center of gravity, engineers took NASA's 2,300-pound Mars 2020 rover for a spin in the clean room at JPL.\", '_id': ObjectId('5e9c9ae3197c7cf8beeb9f0e')}\n",
      "{'title': 'NASA Invites Students to Name Mars 2020 Rover', 'body': \"Through Nov. 1, K-12 students in the U.S. are encouraged to enter an essay contest to name NASA's next Mars rover.\", '_id': ObjectId('5e9c9ae3197c7cf8beeb9f0f')}\n",
      "{'title': \"NASA's Mars Helicopter Attached to Mars 2020 Rover\", 'body': 'The helicopter will be first aircraft to perform flight tests on another planet.', '_id': ObjectId('5e9c9ae3197c7cf8beeb9f10')}\n",
      "{'title': \"What's Mars Solar Conjunction, and Why Does It Matter?\", 'body': 'NASA spacecraft at Mars are going to be on their own for a few weeks when the Sun comes between Mars and Earth, interrupting communications.', '_id': ObjectId('5e9c9ae3197c7cf8beeb9f11')}\n",
      "{'title': 'Scientists Explore Outback as Testbed for Mars', 'body': \"Australia provides a great place for NASA's Mars 2020 and the ESA-Roscosmos ExoMars scientists to hone techniques in preparation for searching for signs ancient life on Mars.\", '_id': ObjectId('5e9c9ae3197c7cf8beeb9f12')}\n",
      "{'title': \"NASA-JPL Names 'Rolling Stones Rock' on Mars\", 'body': \"NASA's Mars InSight mission honored one of the biggest bands of all time at Pasadena concert.\", '_id': ObjectId('5e9c9ae3197c7cf8beeb9f13')}\n",
      "{'title': \"Robotic Toolkit Added to NASA's Mars 2020 Rover\", 'body': \"The bit carousel, which lies at the heart of the rover's Sample Caching System, is now aboard NASA's newest rover.\", '_id': ObjectId('5e9c9ae3197c7cf8beeb9f14')}\n",
      "{'title': \"Space Samples Link NASA's Apollo 11 and Mars 2020\", 'body': \"While separated by half a century, NASA's Apollo 11 and Mars 2020 missions share the same historic goal: returning samples to Earth.\", '_id': ObjectId('5e9c9ae3197c7cf8beeb9f15')}\n",
      "{'title': 'Small Satellite Mission of the Year', 'body': 'The first interplanetary CubeSats were recognized by the engineering community with the 2019 Small Satellite Mission of the Year award.', '_id': ObjectId('5e9c9ae3197c7cf8beeb9f16')}\n",
      "{'title': \"NASA 'Optometrists' Verify Mars 2020 Rover's 20/20 Vision\", 'body': 'Mars 2020 rover underwent an eye exam after several cameras were installed on the rover.', '_id': ObjectId('5e9c9ae3197c7cf8beeb9f17')}\n",
      "{'title': 'New Finds for Mars Rover, Seven Years After Landing', 'body': 'NASA\\'s Curiosity rover is discovering odd rocks halfway into a region called the \"clay-bearing unit.\"', '_id': ObjectId('5e9c9ae4197c7cf8beeb9f18')}\n",
      "{'title': 'MEDLI2 Installation on Mars 2020 Aeroshell Begins', 'body': \"Hardware installed onto NASA's Mars 2020 entry vehicle this week will help to increase the safety of future Mars landings.\", '_id': ObjectId('5e9c9ae4197c7cf8beeb9f19')}\n",
      "{'title': \"NASA's Mars 2020 Rover Does Biceps Curls\", 'body': \"In this time-lapse video, the robotic arm on NASA's Mars 2020 rover maneuvers its 88-pound (40-kilogram) sensor-laden turret as it moves from a deployed to stowed configuration.\", '_id': ObjectId('5e9c9ae4197c7cf8beeb9f1a')}\n",
      "{'title': \"Fueling of NASA's Mars 2020 Rover Power System Begins\", 'body': \"NASA gives the go-ahead to fuel the Mars 2020 rover's Multi-Mission Radioisotope Thermoelectric Generator, which will power rover and help keep it warm while exploring Mars.\", '_id': ObjectId('5e9c9ae4197c7cf8beeb9f1b')}\n",
      "{'title': 'What Does a Marsquake Look Like?', 'body': 'InSight scientists used a special \"shake room\" to demonstrate the differences between quakes on Earth, the Moon and Mars.', '_id': ObjectId('5e9c9ae4197c7cf8beeb9f1c')}\n"
     ]
    },
    {
     "name": "stdout",
     "output_type": "stream",
     "text": [
      "{'title': 'Mars 2020 Rover: T-Minus One Year and Counting', 'body': \"The launch period for NASA's next rover, Mars 2020, opens exactly one year from today, July 17, 2020, and extends through Aug. 5, 2020.\", '_id': ObjectId('5e9c9ae4197c7cf8beeb9f1d')}\n",
      "{'title': 'NASA Racks Up Two Emmy Nominations for Mission Coverage', 'body': \"JPL's coverage of the Mars InSight mission is among the efforts that will be up for an award in mid-September.\", '_id': ObjectId('5e9c9ae4197c7cf8beeb9f1e')}\n",
      "{'title': 'Want to Colonize Mars? Aerogel Could Help', 'body': 'Researchers are studying whether a wonder material used in Mars rovers could help warm parts of the Red Planet rich in water ice.', '_id': ObjectId('5e9c9ae4197c7cf8beeb9f1f')}\n",
      "{'title': 'A Rover Pit Stop at JPL', 'body': \"Working like a finely honed machine, a team of engineers in this time-lapse video clip install test wheels on another finely honed machine: NASA's Mars 2020 rover.\", '_id': ObjectId('5e9c9ae4197c7cf8beeb9f20')}\n",
      "{'title': 'Mars 2020 Rover Gets a Super Instrument', 'body': 'With its rock-zapping laser, the SuperCam will enable the science team to identify the chemical and mineral makeup of its targets on the Red Planet.', '_id': ObjectId('5e9c9ae4197c7cf8beeb9f21')}\n",
      "{'title': 'A Neil Armstrong for Mars: Landing the Mars 2020 Rover', 'body': \"NASA's newest rover will have an autopilot called Terrain-Relative Navigation.\", '_id': ObjectId('5e9c9ae4197c7cf8beeb9f22')}\n",
      "{'title': \"NASA's InSight Uncovers the 'Mole'\", 'body': \"The lander's robotic arm has successfully removed a piece of hardware blocking the view of its digging device in order to help with recovery efforts.\", '_id': ObjectId('5e9c9ae4197c7cf8beeb9f23')}\n",
      "{'title': \"Mars 2020 Rover's 7-Foot-Long Robotic Arm Installed\", 'body': \"The main robotic arm has been installed on NASA's newest rover. When complete, the arm will enable the rover to hold and use science tools like a human geologist would.\", '_id': ObjectId('5e9c9ae4197c7cf8beeb9f24')}\n",
      "{'title': \"NASA Selects Partners for Mars 2020 'Name the Rover' Contest, Seeks Judges\", 'body': 'The contest for U.S. schoolchildren will open in fall 2019, but judges can sign up now.', '_id': ObjectId('5e9c9ae4197c7cf8beeb9f25')}\n",
      "{'title': \"Curiosity's Mars Methane Mystery Continues\", 'body': 'The Curiosity rover’s follow-on sampling shows last week’s methane levels have sharply decreased.', '_id': ObjectId('5e9c9ae4197c7cf8beeb9f26')}\n",
      "{'title': 'Mars 2020 Rover Gets Its Wheels', 'body': \"With the mobility suspension in place, the rover not only looks more like a rover but has many of its 'big-ticket items' installed.\", '_id': ObjectId('5e9c9ae4197c7cf8beeb9f27')}\n",
      "{'title': \"The Mast Is Raised for NASA's Mars 2020 Rover\", 'body': 'Engineers at JPL take a group selfie after attaching the remote sensing mast to the Mars 2020 rover.', '_id': ObjectId('5e9c9ae4197c7cf8beeb9f28')}\n",
      "{'title': \"NASA's Mars 2020 Will Blaze a Trail — for Humans\", 'body': 'The next robotic Mars mission will carry technology that will help enable astronauts to eventually explore the Red Planet.', '_id': ObjectId('5e9c9ae4197c7cf8beeb9f29')}\n"
     ]
    }
   ],
   "source": [
    "def scrape_nasa_news(url,extra_posts=False):\n",
    "    '''Use this function to scrape the article titles and descriptions from \n",
    "    the nasa mars homepage and save them to mongo. \n",
    "    '''\n",
    "    # initialize mongo \n",
    "    conn = 'mongodb://localhost:27017'\n",
    "    client = pymongo.MongoClient(conn)\n",
    "\n",
    "    # initializing mongo db and collection \n",
    "    nasa_db = client.nasa_db\n",
    "    nasa_collection = nasa_db.articles\n",
    "\n",
    "    # declaring element names to grab\n",
    "    article_header = 'slide'\n",
    "    content_title = 'content_title'\n",
    "    content_body = 'article_teaser_body'\n",
    "    wait_element = 'news'\n",
    "    \n",
    "    # intializing webdriver\n",
    "    # driver = webdriver.Chrome(executable_path='C:/path/to/chromedriver.exe')\n",
    "    driver = webdriver.Chrome(executable_path='C:/Users/janeb/Documents/USC Data Analytics Bootcamp/11-Web-Scraping-and-Document-Databases/Homework/chromedriver.exe')\n",
    "    url = \"https://mars.nasa.gov/news/\"\n",
    "    # get url and wait until page is fully loaded before proceeding\n",
    "    driver.get(url)\n",
    "    try:\n",
    "        element = WebDriverWait(driver, 10).until(\n",
    "            EC.presence_of_element_located((By.ID,wait_element))\n",
    "        )\n",
    "        # Prompt user for amount of posts to be returned\n",
    "        if extra_posts:\n",
    "            while True:\n",
    "                print('By default the site returns an 40 posts')\n",
    "                print(f'How many extra posts i.e. 1 = 40, 2 = 80,3 = 120')\n",
    "                posts = int(input())\n",
    "                if posts > 0:\n",
    "                    break\n",
    "            # Grab a the more button element from the html\n",
    "            more_button = driver.find_element_by_xpath('/html/body/div[3]/div/div[3]/div[3]/div/article/div/section/div/footer/a')\n",
    "            # click the more button to retrieve more posts\n",
    "            for post in range(posts):\n",
    "                more_button.click()\n",
    "                time.sleep(1)\n",
    "            \n",
    "        # Return a list of divs that hold the articles\n",
    "        articles = driver.find_elements_by_class_name(article_header)\n",
    "        # Iterate though and parse the articles to grab the titles and content\n",
    "        for article in articles:\n",
    "        # If element exists pass to a variable and create an object\n",
    "            try:\n",
    "                title = article.find_element_by_class_name(content_title).text\n",
    "                body = article.find_element_by_class_name(content_body).text\n",
    "                # post object with post title and body\n",
    "                post = {\n",
    "                    'title':title,\n",
    "                    'body': body\n",
    "                }\n",
    "                #insert the post object into mongo\n",
    "                nasa_collection.insert_one(post)\n",
    "                print(post)\n",
    "            except:\n",
    "                continue\n",
    "    except Exception as e:\n",
    "        print(e)\n",
    "    finally:\n",
    "        driver.quit()\n",
    "\n",
    "url = 'https://mars.nasa.gov/news/?page=0&per_page=40&order=publish_date+desc%2Ccreated_at+desc&search=&category=19%2C165%2C184%2C204&blank_scope=Latest'\n",
    "scrape_nasa_news(url,extra_posts=True)"
   ]
  },
  {
   "cell_type": "markdown",
   "metadata": {},
   "source": [
    "<h1>Part 2</h1>"
   ]
  },
  {
   "cell_type": "code",
   "execution_count": 4,
   "metadata": {},
   "outputs": [],
   "source": [
    "import requests\n",
    "from bs4 import BeautifulSoup"
   ]
  },
  {
   "cell_type": "code",
   "execution_count": 5,
   "metadata": {},
   "outputs": [],
   "source": [
    "featured_image_url = \"https://www.jpl.nasa.gov/spaceimages/?search=&category=Mars\"\n",
    "featured_image_response = requests.get(featured_image_url)\n",
    "if featured_image_response.status_code == 200:\n",
    "    featured_image_html = featured_image_response.text"
   ]
  },
  {
   "cell_type": "code",
   "execution_count": 6,
   "metadata": {},
   "outputs": [
    {
     "data": {
      "text/plain": [
       "'https://www.jpl.nasa.gov/spaceimages/images/mediumsize/PIA15253_ip.jpg'"
      ]
     },
     "execution_count": 6,
     "metadata": {},
     "output_type": "execute_result"
    }
   ],
   "source": [
    "featured_image_soup = BeautifulSoup(featured_image_html, \"html.parser\")\n",
    "image_element = featured_image_soup.find(\"a\", {\"class\": \"button fancybox\"}).get('data-fancybox-href')\n",
    "\"https://www.jpl.nasa.gov\" + image_element"
   ]
  },
  {
   "cell_type": "markdown",
   "metadata": {},
   "source": [
    "<h1>Part 3</h1>"
   ]
  },
  {
   "cell_type": "code",
   "execution_count": 10,
   "metadata": {},
   "outputs": [],
   "source": [
    "weather_tweets_url = \"https://twitter.com/marswxreport?lang=en\"\n",
    "driver = webdriver.Chrome(executable_path='C:/Users/janeb/Documents/USC Data Analytics Bootcamp/11-Web-Scraping-and-Document-Databases/Homework/chromedriver.exe')\n",
    "driver.get(weather_tweets_url)"
   ]
  },
  {
   "cell_type": "code",
   "execution_count": 11,
   "metadata": {},
   "outputs": [
    {
     "data": {
      "text/plain": [
       "'InSight sol 495 (2020-04-17) low -94.0ºC (-137.2ºF) high -4.2ºC (24.4ºF)\\nwinds from the WNW at 4.6 m/s (10.4 mph) gusting to 16.7 m/s (37.3 mph)\\npressure at 6.60 hPa'"
      ]
     },
     "execution_count": 11,
     "metadata": {},
     "output_type": "execute_result"
    }
   ],
   "source": [
    "#Get using Xpath\n",
    "mars_weather = driver.find_element_by_xpath(\"/html/body/div/div/div/div[2]/main/div/div/div/div/div/div/div/div/div[2]/section/div/div/div/div[1]/div/div/div/article/div/div[2]/div[2]/div[2]/div[1]/div/span\")\n",
    "mars_weather.text"
   ]
  },
  {
   "cell_type": "markdown",
   "metadata": {},
   "source": [
    "<h1>Part 4</h1>"
   ]
  },
  {
   "cell_type": "code",
   "execution_count": 13,
   "metadata": {},
   "outputs": [],
   "source": [
    "import pandas as pd"
   ]
  },
  {
   "cell_type": "code",
   "execution_count": 14,
   "metadata": {
    "scrolled": true
   },
   "outputs": [
    {
     "data": {
      "text/html": [
       "<div>\n",
       "<style scoped>\n",
       "    .dataframe tbody tr th:only-of-type {\n",
       "        vertical-align: middle;\n",
       "    }\n",
       "\n",
       "    .dataframe tbody tr th {\n",
       "        vertical-align: top;\n",
       "    }\n",
       "\n",
       "    .dataframe thead th {\n",
       "        text-align: right;\n",
       "    }\n",
       "</style>\n",
       "<table border=\"1\" class=\"dataframe\">\n",
       "  <thead>\n",
       "    <tr style=\"text-align: right;\">\n",
       "      <th></th>\n",
       "      <th>Measure</th>\n",
       "      <th>Number</th>\n",
       "    </tr>\n",
       "  </thead>\n",
       "  <tbody>\n",
       "    <tr>\n",
       "      <td>0</td>\n",
       "      <td>Equatorial Diameter:</td>\n",
       "      <td>6,792 km</td>\n",
       "    </tr>\n",
       "    <tr>\n",
       "      <td>1</td>\n",
       "      <td>Polar Diameter:</td>\n",
       "      <td>6,752 km</td>\n",
       "    </tr>\n",
       "    <tr>\n",
       "      <td>2</td>\n",
       "      <td>Mass:</td>\n",
       "      <td>6.39 × 10^23 kg (0.11 Earths)</td>\n",
       "    </tr>\n",
       "    <tr>\n",
       "      <td>3</td>\n",
       "      <td>Moons:</td>\n",
       "      <td>2 (Phobos &amp; Deimos)</td>\n",
       "    </tr>\n",
       "    <tr>\n",
       "      <td>4</td>\n",
       "      <td>Orbit Distance:</td>\n",
       "      <td>227,943,824 km (1.38 AU)</td>\n",
       "    </tr>\n",
       "    <tr>\n",
       "      <td>5</td>\n",
       "      <td>Orbit Period:</td>\n",
       "      <td>687 days (1.9 years)</td>\n",
       "    </tr>\n",
       "    <tr>\n",
       "      <td>6</td>\n",
       "      <td>Surface Temperature:</td>\n",
       "      <td>-87 to -5 °C</td>\n",
       "    </tr>\n",
       "    <tr>\n",
       "      <td>7</td>\n",
       "      <td>First Record:</td>\n",
       "      <td>2nd millennium BC</td>\n",
       "    </tr>\n",
       "    <tr>\n",
       "      <td>8</td>\n",
       "      <td>Recorded By:</td>\n",
       "      <td>Egyptian astronomers</td>\n",
       "    </tr>\n",
       "  </tbody>\n",
       "</table>\n",
       "</div>"
      ],
      "text/plain": [
       "                Measure                         Number\n",
       "0  Equatorial Diameter:                       6,792 km\n",
       "1       Polar Diameter:                       6,752 km\n",
       "2                 Mass:  6.39 × 10^23 kg (0.11 Earths)\n",
       "3                Moons:            2 (Phobos & Deimos)\n",
       "4       Orbit Distance:       227,943,824 km (1.38 AU)\n",
       "5         Orbit Period:           687 days (1.9 years)\n",
       "6  Surface Temperature:                   -87 to -5 °C\n",
       "7         First Record:              2nd millennium BC\n",
       "8          Recorded By:           Egyptian astronomers"
      ]
     },
     "execution_count": 14,
     "metadata": {},
     "output_type": "execute_result"
    }
   ],
   "source": [
    "mars_fact_url = \"https://space-facts.com/mars/\"\n",
    "all_mars_fact_tables = pd.read_html(mars_fact_url)\n",
    "df_mars_facts = all_mars_fact_tables[0]\n",
    "df_mars_facts.columns = [\"Measure\", \"Number\"]\n",
    "df_mars_facts.head(10)"
   ]
  },
  {
   "cell_type": "markdown",
   "metadata": {},
   "source": [
    "<h1>Part 5</h1>"
   ]
  },
  {
   "cell_type": "code",
   "execution_count": 16,
   "metadata": {},
   "outputs": [],
   "source": [
    "mars_hemisphere_url = \"https://astrogeology.usgs.gov/search/results?q=hemisphere+enhanced&k1=target&v1=Mars\"\n",
    "mars_hemisphere_response = requests.get(mars_hemisphere_url)\n",
    "if mars_hemisphere_response.status_code == 200:\n",
    "    mars_hemisphere_html = mars_hemisphere_response.text"
   ]
  },
  {
   "cell_type": "code",
   "execution_count": 20,
   "metadata": {},
   "outputs": [],
   "source": [
    "def get_full_image_link(link):\n",
    "    response = requests.get(link)\n",
    "    if response.status_code == 200:\n",
    "        html = response.text\n",
    "    soup = BeautifulSoup(html, \"html.parser\")\n",
    "    img_link = soup.find(\"a\", text=\"Original\").get(\"href\")\n",
    "    title = soup.find(\"h2\", class_=\"title\").text.split(\" Enhanced\")[0]\n",
    "    return [title, img_link]"
   ]
  },
  {
   "cell_type": "code",
   "execution_count": 21,
   "metadata": {
    "scrolled": true
   },
   "outputs": [
    {
     "data": {
      "text/plain": [
       "[{'title': 'Cerberus Hemisphere',\n",
       "  'img_url': 'http://astropedia.astrogeology.usgs.gov/download/Mars/Viking/cerberus_enhanced.tif'},\n",
       " {'title': 'Schiaparelli Hemisphere',\n",
       "  'img_url': 'http://astropedia.astrogeology.usgs.gov/download/Mars/Viking/schiaparelli_enhanced.tif'},\n",
       " {'title': 'Syrtis Major Hemisphere',\n",
       "  'img_url': 'http://astropedia.astrogeology.usgs.gov/download/Mars/Viking/syrtis_major_enhanced.tif'},\n",
       " {'title': 'Valles Marineris Hemisphere',\n",
       "  'img_url': 'http://astropedia.astrogeology.usgs.gov/download/Mars/Viking/valles_marineris_enhanced.tif'}]"
      ]
     },
     "execution_count": 21,
     "metadata": {},
     "output_type": "execute_result"
    }
   ],
   "source": [
    "mars_hemisphere_soup = BeautifulSoup(mars_hemisphere_html, \"html.parser\")\n",
    "link_elements = mars_hemisphere_soup.findAll(\"a\", {\"class\": \"itemLink product-item\"})\n",
    "full_page_links = [dict(title=get_full_image_link(\"https://astrogeology.usgs.gov\" + le.get('href'))[0], img_url=get_full_image_link(\"https://astrogeology.usgs.gov\" + le.get('href'))[1]) for le in link_elements]\n",
    "full_page_links"
   ]
  },
  {
   "cell_type": "code",
   "execution_count": null,
   "metadata": {},
   "outputs": [],
   "source": []
  }
 ],
 "metadata": {
  "kernelspec": {
   "display_name": "Python 3",
   "language": "python",
   "name": "python3"
  },
  "language_info": {
   "codemirror_mode": {
    "name": "ipython",
    "version": 3
   },
   "file_extension": ".py",
   "mimetype": "text/x-python",
   "name": "python",
   "nbconvert_exporter": "python",
   "pygments_lexer": "ipython3",
   "version": "3.7.4"
  }
 },
 "nbformat": 4,
 "nbformat_minor": 2
}
